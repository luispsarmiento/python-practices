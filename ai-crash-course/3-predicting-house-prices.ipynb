{
  "cells": [
    {
      "cell_type": "code",
      "source": [
        "from google.colab import drive\n",
        "drive.mount('/content/drive')"
      ],
      "metadata": {
        "colab": {
          "base_uri": "https://localhost:8080/",
          "height": 321
        },
        "id": "jirPSGKF_Zju",
        "outputId": "fc6636a2-f413-4437-8a5f-2b416cb475b0"
      },
      "execution_count": 1,
      "outputs": [
        {
          "output_type": "error",
          "ename": "MessageError",
          "evalue": "Error: credential propagation was unsuccessful",
          "traceback": [
            "\u001b[0;31m---------------------------------------------------------------------------\u001b[0m",
            "\u001b[0;31mMessageError\u001b[0m                              Traceback (most recent call last)",
            "\u001b[0;32m<ipython-input-1-d5df0069828e>\u001b[0m in \u001b[0;36m<cell line: 0>\u001b[0;34m()\u001b[0m\n\u001b[1;32m      1\u001b[0m \u001b[0;32mfrom\u001b[0m \u001b[0mgoogle\u001b[0m\u001b[0;34m.\u001b[0m\u001b[0mcolab\u001b[0m \u001b[0;32mimport\u001b[0m \u001b[0mdrive\u001b[0m\u001b[0;34m\u001b[0m\u001b[0;34m\u001b[0m\u001b[0m\n\u001b[0;32m----> 2\u001b[0;31m \u001b[0mdrive\u001b[0m\u001b[0;34m.\u001b[0m\u001b[0mmount\u001b[0m\u001b[0;34m(\u001b[0m\u001b[0;34m'/content/drive'\u001b[0m\u001b[0;34m)\u001b[0m\u001b[0;34m\u001b[0m\u001b[0;34m\u001b[0m\u001b[0m\n\u001b[0m",
            "\u001b[0;32m/usr/local/lib/python3.11/dist-packages/google/colab/drive.py\u001b[0m in \u001b[0;36mmount\u001b[0;34m(mountpoint, force_remount, timeout_ms, readonly)\u001b[0m\n\u001b[1;32m     98\u001b[0m \u001b[0;32mdef\u001b[0m \u001b[0mmount\u001b[0m\u001b[0;34m(\u001b[0m\u001b[0mmountpoint\u001b[0m\u001b[0;34m,\u001b[0m \u001b[0mforce_remount\u001b[0m\u001b[0;34m=\u001b[0m\u001b[0;32mFalse\u001b[0m\u001b[0;34m,\u001b[0m \u001b[0mtimeout_ms\u001b[0m\u001b[0;34m=\u001b[0m\u001b[0;36m120000\u001b[0m\u001b[0;34m,\u001b[0m \u001b[0mreadonly\u001b[0m\u001b[0;34m=\u001b[0m\u001b[0;32mFalse\u001b[0m\u001b[0;34m)\u001b[0m\u001b[0;34m:\u001b[0m\u001b[0;34m\u001b[0m\u001b[0;34m\u001b[0m\u001b[0m\n\u001b[1;32m     99\u001b[0m   \u001b[0;34m\"\"\"Mount your Google Drive at the specified mountpoint path.\"\"\"\u001b[0m\u001b[0;34m\u001b[0m\u001b[0;34m\u001b[0m\u001b[0m\n\u001b[0;32m--> 100\u001b[0;31m   return _mount(\n\u001b[0m\u001b[1;32m    101\u001b[0m       \u001b[0mmountpoint\u001b[0m\u001b[0;34m,\u001b[0m\u001b[0;34m\u001b[0m\u001b[0;34m\u001b[0m\u001b[0m\n\u001b[1;32m    102\u001b[0m       \u001b[0mforce_remount\u001b[0m\u001b[0;34m=\u001b[0m\u001b[0mforce_remount\u001b[0m\u001b[0;34m,\u001b[0m\u001b[0;34m\u001b[0m\u001b[0;34m\u001b[0m\u001b[0m\n",
            "\u001b[0;32m/usr/local/lib/python3.11/dist-packages/google/colab/drive.py\u001b[0m in \u001b[0;36m_mount\u001b[0;34m(mountpoint, force_remount, timeout_ms, ephemeral, readonly)\u001b[0m\n\u001b[1;32m    135\u001b[0m   )\n\u001b[1;32m    136\u001b[0m   \u001b[0;32mif\u001b[0m \u001b[0mephemeral\u001b[0m\u001b[0;34m:\u001b[0m\u001b[0;34m\u001b[0m\u001b[0;34m\u001b[0m\u001b[0m\n\u001b[0;32m--> 137\u001b[0;31m     _message.blocking_request(\n\u001b[0m\u001b[1;32m    138\u001b[0m         \u001b[0;34m'request_auth'\u001b[0m\u001b[0;34m,\u001b[0m\u001b[0;34m\u001b[0m\u001b[0;34m\u001b[0m\u001b[0m\n\u001b[1;32m    139\u001b[0m         \u001b[0mrequest\u001b[0m\u001b[0;34m=\u001b[0m\u001b[0;34m{\u001b[0m\u001b[0;34m'authType'\u001b[0m\u001b[0;34m:\u001b[0m \u001b[0;34m'dfs_ephemeral'\u001b[0m\u001b[0;34m}\u001b[0m\u001b[0;34m,\u001b[0m\u001b[0;34m\u001b[0m\u001b[0;34m\u001b[0m\u001b[0m\n",
            "\u001b[0;32m/usr/local/lib/python3.11/dist-packages/google/colab/_message.py\u001b[0m in \u001b[0;36mblocking_request\u001b[0;34m(request_type, request, timeout_sec, parent)\u001b[0m\n\u001b[1;32m    174\u001b[0m       \u001b[0mrequest_type\u001b[0m\u001b[0;34m,\u001b[0m \u001b[0mrequest\u001b[0m\u001b[0;34m,\u001b[0m \u001b[0mparent\u001b[0m\u001b[0;34m=\u001b[0m\u001b[0mparent\u001b[0m\u001b[0;34m,\u001b[0m \u001b[0mexpect_reply\u001b[0m\u001b[0;34m=\u001b[0m\u001b[0;32mTrue\u001b[0m\u001b[0;34m\u001b[0m\u001b[0;34m\u001b[0m\u001b[0m\n\u001b[1;32m    175\u001b[0m   )\n\u001b[0;32m--> 176\u001b[0;31m   \u001b[0;32mreturn\u001b[0m \u001b[0mread_reply_from_input\u001b[0m\u001b[0;34m(\u001b[0m\u001b[0mrequest_id\u001b[0m\u001b[0;34m,\u001b[0m \u001b[0mtimeout_sec\u001b[0m\u001b[0;34m)\u001b[0m\u001b[0;34m\u001b[0m\u001b[0;34m\u001b[0m\u001b[0m\n\u001b[0m",
            "\u001b[0;32m/usr/local/lib/python3.11/dist-packages/google/colab/_message.py\u001b[0m in \u001b[0;36mread_reply_from_input\u001b[0;34m(message_id, timeout_sec)\u001b[0m\n\u001b[1;32m    101\u001b[0m     ):\n\u001b[1;32m    102\u001b[0m       \u001b[0;32mif\u001b[0m \u001b[0;34m'error'\u001b[0m \u001b[0;32min\u001b[0m \u001b[0mreply\u001b[0m\u001b[0;34m:\u001b[0m\u001b[0;34m\u001b[0m\u001b[0;34m\u001b[0m\u001b[0m\n\u001b[0;32m--> 103\u001b[0;31m         \u001b[0;32mraise\u001b[0m \u001b[0mMessageError\u001b[0m\u001b[0;34m(\u001b[0m\u001b[0mreply\u001b[0m\u001b[0;34m[\u001b[0m\u001b[0;34m'error'\u001b[0m\u001b[0;34m]\u001b[0m\u001b[0;34m)\u001b[0m\u001b[0;34m\u001b[0m\u001b[0;34m\u001b[0m\u001b[0m\n\u001b[0m\u001b[1;32m    104\u001b[0m       \u001b[0;32mreturn\u001b[0m \u001b[0mreply\u001b[0m\u001b[0;34m.\u001b[0m\u001b[0mget\u001b[0m\u001b[0;34m(\u001b[0m\u001b[0;34m'data'\u001b[0m\u001b[0;34m,\u001b[0m \u001b[0;32mNone\u001b[0m\u001b[0;34m)\u001b[0m\u001b[0;34m\u001b[0m\u001b[0;34m\u001b[0m\u001b[0m\n\u001b[1;32m    105\u001b[0m \u001b[0;34m\u001b[0m\u001b[0m\n",
            "\u001b[0;31mMessageError\u001b[0m: Error: credential propagation was unsuccessful"
          ]
        }
      ]
    },
    {
      "cell_type": "code",
      "source": [
        "# Importing the libraries   #3\n",
        "import pandas as pd   #4\n",
        "import numpy as np   #5\n",
        "import keras   #6\n",
        "from sklearn.model_selection import train_test_split   #7\n",
        "from sklearn.preprocessing import MinMaxScaler   #8\n",
        "from keras.layers import Dense, Dropout   #9\n",
        "from keras.models import Sequential   #10\n",
        "from keras.optimizers import Adam   #11"
      ],
      "metadata": {
        "id": "3v74an-J_yUG"
      },
      "execution_count": 2,
      "outputs": []
    },
    {
      "cell_type": "code",
      "source": [
        "# Importing the dataset   #13\n",
        "dataset = pd.read_csv('kc_house_data.csv')   #14"
      ],
      "metadata": {
        "id": "4aZRNjGE__-K"
      },
      "execution_count": 3,
      "outputs": []
    },
    {
      "cell_type": "code",
      "source": [
        "# Getting separately the features and the targets   #16\n",
        "X = dataset.iloc[:, 3:].values   #17\n",
        "X = X[:, np.r_[0:13,14:18]]   #18\n",
        "y = dataset.iloc[:, 2].values   #19"
      ],
      "metadata": {
        "id": "6cpOS6UjAmPB"
      },
      "execution_count": 4,
      "outputs": []
    },
    {
      "cell_type": "code",
      "source": [
        "# Splitting the dataset into a training set and a test set   #21\n",
        "X_train, X_test, y_train, y_test = train_test_split(X, y, test_size = 0.2, random_state = 0)   #22"
      ],
      "metadata": {
        "id": "VtL8-nR6A0Cd"
      },
      "execution_count": 5,
      "outputs": []
    },
    {
      "cell_type": "code",
      "source": [
        "# Scaling the features   #24\n",
        "xscaler = MinMaxScaler(feature_range = (0,1))   #25\n",
        "X_train = xscaler.fit_transform(X_train)   #26\n",
        "X_test = xscaler.transform(X_test)   #27\n",
        "#28\n",
        "# Scaling the target   #29\n",
        "yscaler = MinMaxScaler(feature_range = (0,1))   #30\n",
        "y_train = yscaler.fit_transform(y_train.reshape(-1,1))   #31\n",
        "y_test = yscaler.transform(y_test.reshape(-1,1))   #32"
      ],
      "metadata": {
        "id": "xMCYmv5EBNrd"
      },
      "execution_count": 6,
      "outputs": []
    },
    {
      "cell_type": "code",
      "source": [
        "# Building the Artificial Neural Network   #34\n",
        "model = Sequential()   #35\n",
        "model.add(Dense(units = 64, kernel_initializer = 'uniform', activation = 'relu', input_dim = 17))   #36\n",
        "model.add(Dense(units = 16, kernel_initializer = 'uniform', activation = 'relu'))   #37\n",
        "model.add(Dense(units = 1, kernel_initializer = 'uniform', activation = 'relu'))   #38\n",
        "model.compile(optimizer = Adam(learning_rate = 0.001), loss = 'mse', metrics = ['mean_absolute_error'])   #39"
      ],
      "metadata": {
        "colab": {
          "base_uri": "https://localhost:8080/"
        },
        "id": "AxX1R3olBikD",
        "outputId": "60266d25-bb70-47f6-bae2-bf2d8ff37190"
      },
      "execution_count": 8,
      "outputs": [
        {
          "output_type": "stream",
          "name": "stderr",
          "text": [
            "/usr/local/lib/python3.11/dist-packages/keras/src/layers/core/dense.py:87: UserWarning: Do not pass an `input_shape`/`input_dim` argument to a layer. When using Sequential models, prefer using an `Input(shape)` object as the first layer in the model instead.\n",
            "  super().__init__(activity_regularizer=activity_regularizer, **kwargs)\n"
          ]
        }
      ]
    },
    {
      "cell_type": "code",
      "source": [
        "# Training the Artificial Neural Network   #41\n",
        "model.fit(X_train, y_train, batch_size = 32, epochs = 100, validation_data = (X_test, y_test))   #42"
      ],
      "metadata": {
        "colab": {
          "base_uri": "https://localhost:8080/"
        },
        "id": "oyg6XTfaBwcB",
        "outputId": "7c7323a8-6416-43b4-f63c-663cec466250"
      },
      "execution_count": 9,
      "outputs": [
        {
          "output_type": "stream",
          "name": "stdout",
          "text": [
            "Epoch 1/100\n",
            "\u001b[1m541/541\u001b[0m \u001b[32m━━━━━━━━━━━━━━━━━━━━\u001b[0m\u001b[37m\u001b[0m \u001b[1m3s\u001b[0m 2ms/step - loss: 0.0033 - mean_absolute_error: 0.0372 - val_loss: 5.9408e-04 - val_mean_absolute_error: 0.0147\n",
            "Epoch 2/100\n",
            "\u001b[1m541/541\u001b[0m \u001b[32m━━━━━━━━━━━━━━━━━━━━\u001b[0m\u001b[37m\u001b[0m \u001b[1m1s\u001b[0m 3ms/step - loss: 6.3356e-04 - mean_absolute_error: 0.0157 - val_loss: 6.0177e-04 - val_mean_absolute_error: 0.0174\n",
            "Epoch 3/100\n",
            "\u001b[1m541/541\u001b[0m \u001b[32m━━━━━━━━━━━━━━━━━━━━\u001b[0m\u001b[37m\u001b[0m \u001b[1m2s\u001b[0m 2ms/step - loss: 5.6355e-04 - mean_absolute_error: 0.0148 - val_loss: 4.8312e-04 - val_mean_absolute_error: 0.0128\n",
            "Epoch 4/100\n",
            "\u001b[1m541/541\u001b[0m \u001b[32m━━━━━━━━━━━━━━━━━━━━\u001b[0m\u001b[37m\u001b[0m \u001b[1m1s\u001b[0m 1ms/step - loss: 5.2857e-04 - mean_absolute_error: 0.0138 - val_loss: 4.6472e-04 - val_mean_absolute_error: 0.0125\n",
            "Epoch 5/100\n",
            "\u001b[1m541/541\u001b[0m \u001b[32m━━━━━━━━━━━━━━━━━━━━\u001b[0m\u001b[37m\u001b[0m \u001b[1m1s\u001b[0m 2ms/step - loss: 4.5241e-04 - mean_absolute_error: 0.0131 - val_loss: 4.3898e-04 - val_mean_absolute_error: 0.0143\n",
            "Epoch 6/100\n",
            "\u001b[1m541/541\u001b[0m \u001b[32m━━━━━━━━━━━━━━━━━━━━\u001b[0m\u001b[37m\u001b[0m \u001b[1m1s\u001b[0m 2ms/step - loss: 4.2957e-04 - mean_absolute_error: 0.0125 - val_loss: 3.9696e-04 - val_mean_absolute_error: 0.0121\n",
            "Epoch 7/100\n",
            "\u001b[1m541/541\u001b[0m \u001b[32m━━━━━━━━━━━━━━━━━━━━\u001b[0m\u001b[37m\u001b[0m \u001b[1m1s\u001b[0m 2ms/step - loss: 3.9471e-04 - mean_absolute_error: 0.0121 - val_loss: 3.3486e-04 - val_mean_absolute_error: 0.0108\n",
            "Epoch 8/100\n",
            "\u001b[1m541/541\u001b[0m \u001b[32m━━━━━━━━━━━━━━━━━━━━\u001b[0m\u001b[37m\u001b[0m \u001b[1m1s\u001b[0m 1ms/step - loss: 4.0657e-04 - mean_absolute_error: 0.0123 - val_loss: 3.2885e-04 - val_mean_absolute_error: 0.0108\n",
            "Epoch 9/100\n",
            "\u001b[1m541/541\u001b[0m \u001b[32m━━━━━━━━━━━━━━━━━━━━\u001b[0m\u001b[37m\u001b[0m \u001b[1m1s\u001b[0m 2ms/step - loss: 3.5770e-04 - mean_absolute_error: 0.0116 - val_loss: 3.4892e-04 - val_mean_absolute_error: 0.0119\n",
            "Epoch 10/100\n",
            "\u001b[1m541/541\u001b[0m \u001b[32m━━━━━━━━━━━━━━━━━━━━\u001b[0m\u001b[37m\u001b[0m \u001b[1m1s\u001b[0m 1ms/step - loss: 3.7462e-04 - mean_absolute_error: 0.0119 - val_loss: 3.1315e-04 - val_mean_absolute_error: 0.0107\n",
            "Epoch 11/100\n",
            "\u001b[1m541/541\u001b[0m \u001b[32m━━━━━━━━━━━━━━━━━━━━\u001b[0m\u001b[37m\u001b[0m \u001b[1m2s\u001b[0m 3ms/step - loss: 3.3036e-04 - mean_absolute_error: 0.0111 - val_loss: 3.1371e-04 - val_mean_absolute_error: 0.0107\n",
            "Epoch 12/100\n",
            "\u001b[1m541/541\u001b[0m \u001b[32m━━━━━━━━━━━━━━━━━━━━\u001b[0m\u001b[37m\u001b[0m \u001b[1m2s\u001b[0m 2ms/step - loss: 3.4002e-04 - mean_absolute_error: 0.0111 - val_loss: 2.9117e-04 - val_mean_absolute_error: 0.0101\n",
            "Epoch 13/100\n",
            "\u001b[1m541/541\u001b[0m \u001b[32m━━━━━━━━━━━━━━━━━━━━\u001b[0m\u001b[37m\u001b[0m \u001b[1m1s\u001b[0m 2ms/step - loss: 3.4627e-04 - mean_absolute_error: 0.0113 - val_loss: 3.4413e-04 - val_mean_absolute_error: 0.0118\n",
            "Epoch 14/100\n",
            "\u001b[1m541/541\u001b[0m \u001b[32m━━━━━━━━━━━━━━━━━━━━\u001b[0m\u001b[37m\u001b[0m \u001b[1m1s\u001b[0m 2ms/step - loss: 3.1296e-04 - mean_absolute_error: 0.0108 - val_loss: 3.8187e-04 - val_mean_absolute_error: 0.0106\n",
            "Epoch 15/100\n",
            "\u001b[1m541/541\u001b[0m \u001b[32m━━━━━━━━━━━━━━━━━━━━\u001b[0m\u001b[37m\u001b[0m \u001b[1m1s\u001b[0m 2ms/step - loss: 3.0676e-04 - mean_absolute_error: 0.0108 - val_loss: 2.7380e-04 - val_mean_absolute_error: 0.0108\n",
            "Epoch 16/100\n",
            "\u001b[1m541/541\u001b[0m \u001b[32m━━━━━━━━━━━━━━━━━━━━\u001b[0m\u001b[37m\u001b[0m \u001b[1m1s\u001b[0m 2ms/step - loss: 3.1624e-04 - mean_absolute_error: 0.0110 - val_loss: 2.8047e-04 - val_mean_absolute_error: 0.0101\n",
            "Epoch 17/100\n",
            "\u001b[1m541/541\u001b[0m \u001b[32m━━━━━━━━━━━━━━━━━━━━\u001b[0m\u001b[37m\u001b[0m \u001b[1m1s\u001b[0m 1ms/step - loss: 2.7966e-04 - mean_absolute_error: 0.0104 - val_loss: 2.9225e-04 - val_mean_absolute_error: 0.0105\n",
            "Epoch 18/100\n",
            "\u001b[1m541/541\u001b[0m \u001b[32m━━━━━━━━━━━━━━━━━━━━\u001b[0m\u001b[37m\u001b[0m \u001b[1m1s\u001b[0m 2ms/step - loss: 3.0504e-04 - mean_absolute_error: 0.0107 - val_loss: 2.7775e-04 - val_mean_absolute_error: 0.0101\n",
            "Epoch 19/100\n",
            "\u001b[1m541/541\u001b[0m \u001b[32m━━━━━━━━━━━━━━━━━━━━\u001b[0m\u001b[37m\u001b[0m \u001b[1m1s\u001b[0m 2ms/step - loss: 3.1327e-04 - mean_absolute_error: 0.0109 - val_loss: 3.3094e-04 - val_mean_absolute_error: 0.0115\n",
            "Epoch 20/100\n",
            "\u001b[1m541/541\u001b[0m \u001b[32m━━━━━━━━━━━━━━━━━━━━\u001b[0m\u001b[37m\u001b[0m \u001b[1m2s\u001b[0m 2ms/step - loss: 2.8619e-04 - mean_absolute_error: 0.0105 - val_loss: 2.7055e-04 - val_mean_absolute_error: 0.0102\n",
            "Epoch 21/100\n",
            "\u001b[1m541/541\u001b[0m \u001b[32m━━━━━━━━━━━━━━━━━━━━\u001b[0m\u001b[37m\u001b[0m \u001b[1m2s\u001b[0m 2ms/step - loss: 2.8677e-04 - mean_absolute_error: 0.0105 - val_loss: 2.5523e-04 - val_mean_absolute_error: 0.0097\n",
            "Epoch 22/100\n",
            "\u001b[1m541/541\u001b[0m \u001b[32m━━━━━━━━━━━━━━━━━━━━\u001b[0m\u001b[37m\u001b[0m \u001b[1m1s\u001b[0m 2ms/step - loss: 2.5652e-04 - mean_absolute_error: 0.0102 - val_loss: 2.7298e-04 - val_mean_absolute_error: 0.0104\n",
            "Epoch 23/100\n",
            "\u001b[1m541/541\u001b[0m \u001b[32m━━━━━━━━━━━━━━━━━━━━\u001b[0m\u001b[37m\u001b[0m \u001b[1m1s\u001b[0m 2ms/step - loss: 2.7533e-04 - mean_absolute_error: 0.0103 - val_loss: 2.9973e-04 - val_mean_absolute_error: 0.0111\n",
            "Epoch 24/100\n",
            "\u001b[1m541/541\u001b[0m \u001b[32m━━━━━━━━━━━━━━━━━━━━\u001b[0m\u001b[37m\u001b[0m \u001b[1m1s\u001b[0m 1ms/step - loss: 2.8591e-04 - mean_absolute_error: 0.0103 - val_loss: 2.5462e-04 - val_mean_absolute_error: 0.0097\n",
            "Epoch 25/100\n",
            "\u001b[1m541/541\u001b[0m \u001b[32m━━━━━━━━━━━━━━━━━━━━\u001b[0m\u001b[37m\u001b[0m \u001b[1m1s\u001b[0m 1ms/step - loss: 2.5354e-04 - mean_absolute_error: 0.0101 - val_loss: 2.7056e-04 - val_mean_absolute_error: 0.0100\n",
            "Epoch 26/100\n",
            "\u001b[1m541/541\u001b[0m \u001b[32m━━━━━━━━━━━━━━━━━━━━\u001b[0m\u001b[37m\u001b[0m \u001b[1m1s\u001b[0m 2ms/step - loss: 2.6853e-04 - mean_absolute_error: 0.0103 - val_loss: 2.6306e-04 - val_mean_absolute_error: 0.0096\n",
            "Epoch 27/100\n",
            "\u001b[1m541/541\u001b[0m \u001b[32m━━━━━━━━━━━━━━━━━━━━\u001b[0m\u001b[37m\u001b[0m \u001b[1m1s\u001b[0m 2ms/step - loss: 2.8608e-04 - mean_absolute_error: 0.0103 - val_loss: 2.9936e-04 - val_mean_absolute_error: 0.0103\n",
            "Epoch 28/100\n",
            "\u001b[1m541/541\u001b[0m \u001b[32m━━━━━━━━━━━━━━━━━━━━\u001b[0m\u001b[37m\u001b[0m \u001b[1m1s\u001b[0m 2ms/step - loss: 2.7945e-04 - mean_absolute_error: 0.0105 - val_loss: 2.5415e-04 - val_mean_absolute_error: 0.0103\n",
            "Epoch 29/100\n",
            "\u001b[1m541/541\u001b[0m \u001b[32m━━━━━━━━━━━━━━━━━━━━\u001b[0m\u001b[37m\u001b[0m \u001b[1m2s\u001b[0m 2ms/step - loss: 2.7598e-04 - mean_absolute_error: 0.0104 - val_loss: 2.5650e-04 - val_mean_absolute_error: 0.0095\n",
            "Epoch 30/100\n",
            "\u001b[1m541/541\u001b[0m \u001b[32m━━━━━━━━━━━━━━━━━━━━\u001b[0m\u001b[37m\u001b[0m \u001b[1m2s\u001b[0m 1ms/step - loss: 2.9687e-04 - mean_absolute_error: 0.0106 - val_loss: 2.6770e-04 - val_mean_absolute_error: 0.0104\n",
            "Epoch 31/100\n",
            "\u001b[1m541/541\u001b[0m \u001b[32m━━━━━━━━━━━━━━━━━━━━\u001b[0m\u001b[37m\u001b[0m \u001b[1m1s\u001b[0m 2ms/step - loss: 2.6860e-04 - mean_absolute_error: 0.0102 - val_loss: 2.5727e-04 - val_mean_absolute_error: 0.0095\n",
            "Epoch 32/100\n",
            "\u001b[1m541/541\u001b[0m \u001b[32m━━━━━━━━━━━━━━━━━━━━\u001b[0m\u001b[37m\u001b[0m \u001b[1m1s\u001b[0m 1ms/step - loss: 2.7621e-04 - mean_absolute_error: 0.0103 - val_loss: 2.9236e-04 - val_mean_absolute_error: 0.0114\n",
            "Epoch 33/100\n",
            "\u001b[1m541/541\u001b[0m \u001b[32m━━━━━━━━━━━━━━━━━━━━\u001b[0m\u001b[37m\u001b[0m \u001b[1m1s\u001b[0m 2ms/step - loss: 2.7018e-04 - mean_absolute_error: 0.0103 - val_loss: 2.4911e-04 - val_mean_absolute_error: 0.0095\n",
            "Epoch 34/100\n",
            "\u001b[1m541/541\u001b[0m \u001b[32m━━━━━━━━━━━━━━━━━━━━\u001b[0m\u001b[37m\u001b[0m \u001b[1m1s\u001b[0m 2ms/step - loss: 2.6924e-04 - mean_absolute_error: 0.0102 - val_loss: 2.4537e-04 - val_mean_absolute_error: 0.0094\n",
            "Epoch 35/100\n",
            "\u001b[1m541/541\u001b[0m \u001b[32m━━━━━━━━━━━━━━━━━━━━\u001b[0m\u001b[37m\u001b[0m \u001b[1m1s\u001b[0m 2ms/step - loss: 2.5491e-04 - mean_absolute_error: 0.0100 - val_loss: 3.1649e-04 - val_mean_absolute_error: 0.0114\n",
            "Epoch 36/100\n",
            "\u001b[1m541/541\u001b[0m \u001b[32m━━━━━━━━━━━━━━━━━━━━\u001b[0m\u001b[37m\u001b[0m \u001b[1m1s\u001b[0m 1ms/step - loss: 2.7411e-04 - mean_absolute_error: 0.0104 - val_loss: 2.4988e-04 - val_mean_absolute_error: 0.0096\n",
            "Epoch 37/100\n",
            "\u001b[1m541/541\u001b[0m \u001b[32m━━━━━━━━━━━━━━━━━━━━\u001b[0m\u001b[37m\u001b[0m \u001b[1m1s\u001b[0m 2ms/step - loss: 2.6359e-04 - mean_absolute_error: 0.0102 - val_loss: 3.4636e-04 - val_mean_absolute_error: 0.0138\n",
            "Epoch 38/100\n",
            "\u001b[1m541/541\u001b[0m \u001b[32m━━━━━━━━━━━━━━━━━━━━\u001b[0m\u001b[37m\u001b[0m \u001b[1m2s\u001b[0m 2ms/step - loss: 2.5671e-04 - mean_absolute_error: 0.0101 - val_loss: 2.9341e-04 - val_mean_absolute_error: 0.0105\n",
            "Epoch 39/100\n",
            "\u001b[1m541/541\u001b[0m \u001b[32m━━━━━━━━━━━━━━━━━━━━\u001b[0m\u001b[37m\u001b[0m \u001b[1m1s\u001b[0m 2ms/step - loss: 2.4285e-04 - mean_absolute_error: 0.0098 - val_loss: 2.5147e-04 - val_mean_absolute_error: 0.0095\n",
            "Epoch 40/100\n",
            "\u001b[1m541/541\u001b[0m \u001b[32m━━━━━━━━━━━━━━━━━━━━\u001b[0m\u001b[37m\u001b[0m \u001b[1m2s\u001b[0m 2ms/step - loss: 2.4947e-04 - mean_absolute_error: 0.0100 - val_loss: 2.4892e-04 - val_mean_absolute_error: 0.0097\n",
            "Epoch 41/100\n",
            "\u001b[1m541/541\u001b[0m \u001b[32m━━━━━━━━━━━━━━━━━━━━\u001b[0m\u001b[37m\u001b[0m \u001b[1m1s\u001b[0m 2ms/step - loss: 2.6450e-04 - mean_absolute_error: 0.0103 - val_loss: 2.4293e-04 - val_mean_absolute_error: 0.0092\n",
            "Epoch 42/100\n",
            "\u001b[1m541/541\u001b[0m \u001b[32m━━━━━━━━━━━━━━━━━━━━\u001b[0m\u001b[37m\u001b[0m \u001b[1m1s\u001b[0m 2ms/step - loss: 2.5429e-04 - mean_absolute_error: 0.0099 - val_loss: 2.5083e-04 - val_mean_absolute_error: 0.0098\n",
            "Epoch 43/100\n",
            "\u001b[1m541/541\u001b[0m \u001b[32m━━━━━━━━━━━━━━━━━━━━\u001b[0m\u001b[37m\u001b[0m \u001b[1m1s\u001b[0m 2ms/step - loss: 2.4494e-04 - mean_absolute_error: 0.0098 - val_loss: 2.8080e-04 - val_mean_absolute_error: 0.0095\n",
            "Epoch 44/100\n",
            "\u001b[1m541/541\u001b[0m \u001b[32m━━━━━━━━━━━━━━━━━━━━\u001b[0m\u001b[37m\u001b[0m \u001b[1m1s\u001b[0m 2ms/step - loss: 2.5249e-04 - mean_absolute_error: 0.0099 - val_loss: 2.7268e-04 - val_mean_absolute_error: 0.0104\n",
            "Epoch 45/100\n",
            "\u001b[1m541/541\u001b[0m \u001b[32m━━━━━━━━━━━━━━━━━━━━\u001b[0m\u001b[37m\u001b[0m \u001b[1m1s\u001b[0m 2ms/step - loss: 2.7098e-04 - mean_absolute_error: 0.0102 - val_loss: 2.5661e-04 - val_mean_absolute_error: 0.0098\n",
            "Epoch 46/100\n",
            "\u001b[1m541/541\u001b[0m \u001b[32m━━━━━━━━━━━━━━━━━━━━\u001b[0m\u001b[37m\u001b[0m \u001b[1m1s\u001b[0m 1ms/step - loss: 2.4359e-04 - mean_absolute_error: 0.0099 - val_loss: 2.7440e-04 - val_mean_absolute_error: 0.0100\n",
            "Epoch 47/100\n",
            "\u001b[1m541/541\u001b[0m \u001b[32m━━━━━━━━━━━━━━━━━━━━\u001b[0m\u001b[37m\u001b[0m \u001b[1m1s\u001b[0m 2ms/step - loss: 2.7903e-04 - mean_absolute_error: 0.0104 - val_loss: 2.5711e-04 - val_mean_absolute_error: 0.0093\n",
            "Epoch 48/100\n",
            "\u001b[1m541/541\u001b[0m \u001b[32m━━━━━━━━━━━━━━━━━━━━\u001b[0m\u001b[37m\u001b[0m \u001b[1m2s\u001b[0m 3ms/step - loss: 2.3981e-04 - mean_absolute_error: 0.0097 - val_loss: 2.4906e-04 - val_mean_absolute_error: 0.0093\n",
            "Epoch 49/100\n",
            "\u001b[1m541/541\u001b[0m \u001b[32m━━━━━━━━━━━━━━━━━━━━\u001b[0m\u001b[37m\u001b[0m \u001b[1m1s\u001b[0m 2ms/step - loss: 2.5509e-04 - mean_absolute_error: 0.0100 - val_loss: 2.5351e-04 - val_mean_absolute_error: 0.0101\n",
            "Epoch 50/100\n",
            "\u001b[1m541/541\u001b[0m \u001b[32m━━━━━━━━━━━━━━━━━━━━\u001b[0m\u001b[37m\u001b[0m \u001b[1m1s\u001b[0m 2ms/step - loss: 2.4881e-04 - mean_absolute_error: 0.0099 - val_loss: 2.7429e-04 - val_mean_absolute_error: 0.0105\n",
            "Epoch 51/100\n",
            "\u001b[1m541/541\u001b[0m \u001b[32m━━━━━━━━━━━━━━━━━━━━\u001b[0m\u001b[37m\u001b[0m \u001b[1m1s\u001b[0m 2ms/step - loss: 2.4762e-04 - mean_absolute_error: 0.0098 - val_loss: 2.3437e-04 - val_mean_absolute_error: 0.0094\n",
            "Epoch 52/100\n",
            "\u001b[1m541/541\u001b[0m \u001b[32m━━━━━━━━━━━━━━━━━━━━\u001b[0m\u001b[37m\u001b[0m \u001b[1m1s\u001b[0m 2ms/step - loss: 2.2923e-04 - mean_absolute_error: 0.0095 - val_loss: 2.7068e-04 - val_mean_absolute_error: 0.0093\n",
            "Epoch 53/100\n",
            "\u001b[1m541/541\u001b[0m \u001b[32m━━━━━━━━━━━━━━━━━━━━\u001b[0m\u001b[37m\u001b[0m \u001b[1m1s\u001b[0m 2ms/step - loss: 2.3911e-04 - mean_absolute_error: 0.0098 - val_loss: 2.4909e-04 - val_mean_absolute_error: 0.0096\n",
            "Epoch 54/100\n",
            "\u001b[1m541/541\u001b[0m \u001b[32m━━━━━━━━━━━━━━━━━━━━\u001b[0m\u001b[37m\u001b[0m \u001b[1m1s\u001b[0m 2ms/step - loss: 2.6127e-04 - mean_absolute_error: 0.0101 - val_loss: 2.6935e-04 - val_mean_absolute_error: 0.0094\n",
            "Epoch 55/100\n",
            "\u001b[1m541/541\u001b[0m \u001b[32m━━━━━━━━━━━━━━━━━━━━\u001b[0m\u001b[37m\u001b[0m \u001b[1m1s\u001b[0m 2ms/step - loss: 2.3878e-04 - mean_absolute_error: 0.0096 - val_loss: 2.6021e-04 - val_mean_absolute_error: 0.0095\n",
            "Epoch 56/100\n",
            "\u001b[1m541/541\u001b[0m \u001b[32m━━━━━━━━━━━━━━━━━━━━\u001b[0m\u001b[37m\u001b[0m \u001b[1m1s\u001b[0m 2ms/step - loss: 2.3824e-04 - mean_absolute_error: 0.0098 - val_loss: 2.4020e-04 - val_mean_absolute_error: 0.0092\n",
            "Epoch 57/100\n",
            "\u001b[1m541/541\u001b[0m \u001b[32m━━━━━━━━━━━━━━━━━━━━\u001b[0m\u001b[37m\u001b[0m \u001b[1m1s\u001b[0m 2ms/step - loss: 2.3945e-04 - mean_absolute_error: 0.0098 - val_loss: 2.8593e-04 - val_mean_absolute_error: 0.0103\n",
            "Epoch 58/100\n",
            "\u001b[1m541/541\u001b[0m \u001b[32m━━━━━━━━━━━━━━━━━━━━\u001b[0m\u001b[37m\u001b[0m \u001b[1m1s\u001b[0m 3ms/step - loss: 2.2905e-04 - mean_absolute_error: 0.0096 - val_loss: 2.7546e-04 - val_mean_absolute_error: 0.0101\n",
            "Epoch 59/100\n",
            "\u001b[1m541/541\u001b[0m \u001b[32m━━━━━━━━━━━━━━━━━━━━\u001b[0m\u001b[37m\u001b[0m \u001b[1m2s\u001b[0m 1ms/step - loss: 2.4064e-04 - mean_absolute_error: 0.0098 - val_loss: 2.3402e-04 - val_mean_absolute_error: 0.0093\n",
            "Epoch 60/100\n",
            "\u001b[1m541/541\u001b[0m \u001b[32m━━━━━━━━━━━━━━━━━━━━\u001b[0m\u001b[37m\u001b[0m \u001b[1m1s\u001b[0m 2ms/step - loss: 2.3737e-04 - mean_absolute_error: 0.0098 - val_loss: 2.4019e-04 - val_mean_absolute_error: 0.0094\n",
            "Epoch 61/100\n",
            "\u001b[1m541/541\u001b[0m \u001b[32m━━━━━━━━━━━━━━━━━━━━\u001b[0m\u001b[37m\u001b[0m \u001b[1m1s\u001b[0m 2ms/step - loss: 2.3847e-04 - mean_absolute_error: 0.0097 - val_loss: 2.5838e-04 - val_mean_absolute_error: 0.0100\n",
            "Epoch 62/100\n",
            "\u001b[1m541/541\u001b[0m \u001b[32m━━━━━━━━━━━━━━━━━━━━\u001b[0m\u001b[37m\u001b[0m \u001b[1m1s\u001b[0m 2ms/step - loss: 2.3565e-04 - mean_absolute_error: 0.0097 - val_loss: 2.3566e-04 - val_mean_absolute_error: 0.0092\n",
            "Epoch 63/100\n",
            "\u001b[1m541/541\u001b[0m \u001b[32m━━━━━━━━━━━━━━━━━━━━\u001b[0m\u001b[37m\u001b[0m \u001b[1m1s\u001b[0m 2ms/step - loss: 2.4868e-04 - mean_absolute_error: 0.0100 - val_loss: 2.4958e-04 - val_mean_absolute_error: 0.0095\n",
            "Epoch 64/100\n",
            "\u001b[1m541/541\u001b[0m \u001b[32m━━━━━━━━━━━━━━━━━━━━\u001b[0m\u001b[37m\u001b[0m \u001b[1m1s\u001b[0m 2ms/step - loss: 2.2870e-04 - mean_absolute_error: 0.0097 - val_loss: 2.8280e-04 - val_mean_absolute_error: 0.0098\n",
            "Epoch 65/100\n",
            "\u001b[1m541/541\u001b[0m \u001b[32m━━━━━━━━━━━━━━━━━━━━\u001b[0m\u001b[37m\u001b[0m \u001b[1m1s\u001b[0m 2ms/step - loss: 2.4733e-04 - mean_absolute_error: 0.0101 - val_loss: 2.6601e-04 - val_mean_absolute_error: 0.0095\n",
            "Epoch 66/100\n",
            "\u001b[1m541/541\u001b[0m \u001b[32m━━━━━━━━━━━━━━━━━━━━\u001b[0m\u001b[37m\u001b[0m \u001b[1m1s\u001b[0m 2ms/step - loss: 2.4371e-04 - mean_absolute_error: 0.0097 - val_loss: 2.6112e-04 - val_mean_absolute_error: 0.0095\n",
            "Epoch 67/100\n",
            "\u001b[1m541/541\u001b[0m \u001b[32m━━━━━━━━━━━━━━━━━━━━\u001b[0m\u001b[37m\u001b[0m \u001b[1m2s\u001b[0m 3ms/step - loss: 2.3683e-04 - mean_absolute_error: 0.0097 - val_loss: 2.5810e-04 - val_mean_absolute_error: 0.0100\n",
            "Epoch 68/100\n",
            "\u001b[1m541/541\u001b[0m \u001b[32m━━━━━━━━━━━━━━━━━━━━\u001b[0m\u001b[37m\u001b[0m \u001b[1m3s\u001b[0m 3ms/step - loss: 2.2920e-04 - mean_absolute_error: 0.0096 - val_loss: 2.4979e-04 - val_mean_absolute_error: 0.0093\n",
            "Epoch 69/100\n",
            "\u001b[1m541/541\u001b[0m \u001b[32m━━━━━━━━━━━━━━━━━━━━\u001b[0m\u001b[37m\u001b[0m \u001b[1m1s\u001b[0m 2ms/step - loss: 2.1967e-04 - mean_absolute_error: 0.0095 - val_loss: 2.3150e-04 - val_mean_absolute_error: 0.0092\n",
            "Epoch 70/100\n",
            "\u001b[1m541/541\u001b[0m \u001b[32m━━━━━━━━━━━━━━━━━━━━\u001b[0m\u001b[37m\u001b[0m \u001b[1m1s\u001b[0m 2ms/step - loss: 2.3769e-04 - mean_absolute_error: 0.0097 - val_loss: 2.6686e-04 - val_mean_absolute_error: 0.0094\n",
            "Epoch 71/100\n",
            "\u001b[1m541/541\u001b[0m \u001b[32m━━━━━━━━━━━━━━━━━━━━\u001b[0m\u001b[37m\u001b[0m \u001b[1m1s\u001b[0m 2ms/step - loss: 2.2607e-04 - mean_absolute_error: 0.0095 - val_loss: 2.7120e-04 - val_mean_absolute_error: 0.0099\n",
            "Epoch 72/100\n",
            "\u001b[1m541/541\u001b[0m \u001b[32m━━━━━━━━━━━━━━━━━━━━\u001b[0m\u001b[37m\u001b[0m \u001b[1m1s\u001b[0m 2ms/step - loss: 2.3119e-04 - mean_absolute_error: 0.0097 - val_loss: 2.3990e-04 - val_mean_absolute_error: 0.0096\n",
            "Epoch 73/100\n",
            "\u001b[1m541/541\u001b[0m \u001b[32m━━━━━━━━━━━━━━━━━━━━\u001b[0m\u001b[37m\u001b[0m \u001b[1m1s\u001b[0m 2ms/step - loss: 2.2891e-04 - mean_absolute_error: 0.0094 - val_loss: 2.3413e-04 - val_mean_absolute_error: 0.0093\n",
            "Epoch 74/100\n",
            "\u001b[1m541/541\u001b[0m \u001b[32m━━━━━━━━━━━━━━━━━━━━\u001b[0m\u001b[37m\u001b[0m \u001b[1m1s\u001b[0m 2ms/step - loss: 2.2946e-04 - mean_absolute_error: 0.0096 - val_loss: 2.3904e-04 - val_mean_absolute_error: 0.0091\n",
            "Epoch 75/100\n",
            "\u001b[1m541/541\u001b[0m \u001b[32m━━━━━━━━━━━━━━━━━━━━\u001b[0m\u001b[37m\u001b[0m \u001b[1m1s\u001b[0m 2ms/step - loss: 2.2622e-04 - mean_absolute_error: 0.0094 - val_loss: 2.6455e-04 - val_mean_absolute_error: 0.0098\n",
            "Epoch 76/100\n",
            "\u001b[1m541/541\u001b[0m \u001b[32m━━━━━━━━━━━━━━━━━━━━\u001b[0m\u001b[37m\u001b[0m \u001b[1m1s\u001b[0m 2ms/step - loss: 2.2895e-04 - mean_absolute_error: 0.0095 - val_loss: 2.8342e-04 - val_mean_absolute_error: 0.0105\n",
            "Epoch 77/100\n",
            "\u001b[1m541/541\u001b[0m \u001b[32m━━━━━━━━━━━━━━━━━━━━\u001b[0m\u001b[37m\u001b[0m \u001b[1m2s\u001b[0m 3ms/step - loss: 2.4058e-04 - mean_absolute_error: 0.0097 - val_loss: 2.5578e-04 - val_mean_absolute_error: 0.0095\n",
            "Epoch 78/100\n",
            "\u001b[1m541/541\u001b[0m \u001b[32m━━━━━━━━━━━━━━━━━━━━\u001b[0m\u001b[37m\u001b[0m \u001b[1m1s\u001b[0m 3ms/step - loss: 2.2912e-04 - mean_absolute_error: 0.0097 - val_loss: 2.6732e-04 - val_mean_absolute_error: 0.0106\n",
            "Epoch 79/100\n",
            "\u001b[1m541/541\u001b[0m \u001b[32m━━━━━━━━━━━━━━━━━━━━\u001b[0m\u001b[37m\u001b[0m \u001b[1m1s\u001b[0m 2ms/step - loss: 2.2924e-04 - mean_absolute_error: 0.0097 - val_loss: 2.8576e-04 - val_mean_absolute_error: 0.0101\n",
            "Epoch 80/100\n",
            "\u001b[1m541/541\u001b[0m \u001b[32m━━━━━━━━━━━━━━━━━━━━\u001b[0m\u001b[37m\u001b[0m \u001b[1m1s\u001b[0m 2ms/step - loss: 2.2071e-04 - mean_absolute_error: 0.0095 - val_loss: 2.6782e-04 - val_mean_absolute_error: 0.0100\n",
            "Epoch 81/100\n",
            "\u001b[1m541/541\u001b[0m \u001b[32m━━━━━━━━━━━━━━━━━━━━\u001b[0m\u001b[37m\u001b[0m \u001b[1m1s\u001b[0m 2ms/step - loss: 2.1988e-04 - mean_absolute_error: 0.0096 - val_loss: 2.6113e-04 - val_mean_absolute_error: 0.0105\n",
            "Epoch 82/100\n",
            "\u001b[1m541/541\u001b[0m \u001b[32m━━━━━━━━━━━━━━━━━━━━\u001b[0m\u001b[37m\u001b[0m \u001b[1m1s\u001b[0m 2ms/step - loss: 2.2535e-04 - mean_absolute_error: 0.0096 - val_loss: 2.2332e-04 - val_mean_absolute_error: 0.0090\n",
            "Epoch 83/100\n",
            "\u001b[1m541/541\u001b[0m \u001b[32m━━━━━━━━━━━━━━━━━━━━\u001b[0m\u001b[37m\u001b[0m \u001b[1m1s\u001b[0m 2ms/step - loss: 2.3777e-04 - mean_absolute_error: 0.0095 - val_loss: 2.6792e-04 - val_mean_absolute_error: 0.0100\n",
            "Epoch 84/100\n",
            "\u001b[1m541/541\u001b[0m \u001b[32m━━━━━━━━━━━━━━━━━━━━\u001b[0m\u001b[37m\u001b[0m \u001b[1m1s\u001b[0m 2ms/step - loss: 2.4903e-04 - mean_absolute_error: 0.0098 - val_loss: 2.2788e-04 - val_mean_absolute_error: 0.0093\n",
            "Epoch 85/100\n",
            "\u001b[1m541/541\u001b[0m \u001b[32m━━━━━━━━━━━━━━━━━━━━\u001b[0m\u001b[37m\u001b[0m \u001b[1m1s\u001b[0m 2ms/step - loss: 2.2636e-04 - mean_absolute_error: 0.0095 - val_loss: 2.3843e-04 - val_mean_absolute_error: 0.0092\n",
            "Epoch 86/100\n",
            "\u001b[1m541/541\u001b[0m \u001b[32m━━━━━━━━━━━━━━━━━━━━\u001b[0m\u001b[37m\u001b[0m \u001b[1m1s\u001b[0m 2ms/step - loss: 2.3827e-04 - mean_absolute_error: 0.0097 - val_loss: 2.3746e-04 - val_mean_absolute_error: 0.0094\n",
            "Epoch 87/100\n",
            "\u001b[1m541/541\u001b[0m \u001b[32m━━━━━━━━━━━━━━━━━━━━\u001b[0m\u001b[37m\u001b[0m \u001b[1m1s\u001b[0m 2ms/step - loss: 2.1610e-04 - mean_absolute_error: 0.0094 - val_loss: 2.9470e-04 - val_mean_absolute_error: 0.0107\n",
            "Epoch 88/100\n",
            "\u001b[1m541/541\u001b[0m \u001b[32m━━━━━━━━━━━━━━━━━━━━\u001b[0m\u001b[37m\u001b[0m \u001b[1m2s\u001b[0m 3ms/step - loss: 2.3528e-04 - mean_absolute_error: 0.0096 - val_loss: 2.3238e-04 - val_mean_absolute_error: 0.0092\n",
            "Epoch 89/100\n",
            "\u001b[1m541/541\u001b[0m \u001b[32m━━━━━━━━━━━━━━━━━━━━\u001b[0m\u001b[37m\u001b[0m \u001b[1m2s\u001b[0m 3ms/step - loss: 2.3840e-04 - mean_absolute_error: 0.0097 - val_loss: 2.4517e-04 - val_mean_absolute_error: 0.0093\n",
            "Epoch 90/100\n",
            "\u001b[1m541/541\u001b[0m \u001b[32m━━━━━━━━━━━━━━━━━━━━\u001b[0m\u001b[37m\u001b[0m \u001b[1m1s\u001b[0m 2ms/step - loss: 2.2048e-04 - mean_absolute_error: 0.0094 - val_loss: 2.3244e-04 - val_mean_absolute_error: 0.0093\n",
            "Epoch 91/100\n",
            "\u001b[1m541/541\u001b[0m \u001b[32m━━━━━━━━━━━━━━━━━━━━\u001b[0m\u001b[37m\u001b[0m \u001b[1m1s\u001b[0m 2ms/step - loss: 2.2737e-04 - mean_absolute_error: 0.0097 - val_loss: 2.5076e-04 - val_mean_absolute_error: 0.0097\n",
            "Epoch 92/100\n",
            "\u001b[1m541/541\u001b[0m \u001b[32m━━━━━━━━━━━━━━━━━━━━\u001b[0m\u001b[37m\u001b[0m \u001b[1m1s\u001b[0m 2ms/step - loss: 2.2739e-04 - mean_absolute_error: 0.0095 - val_loss: 2.6475e-04 - val_mean_absolute_error: 0.0108\n",
            "Epoch 93/100\n",
            "\u001b[1m541/541\u001b[0m \u001b[32m━━━━━━━━━━━━━━━━━━━━\u001b[0m\u001b[37m\u001b[0m \u001b[1m1s\u001b[0m 2ms/step - loss: 2.1427e-04 - mean_absolute_error: 0.0094 - val_loss: 2.4510e-04 - val_mean_absolute_error: 0.0093\n",
            "Epoch 94/100\n",
            "\u001b[1m541/541\u001b[0m \u001b[32m━━━━━━━━━━━━━━━━━━━━\u001b[0m\u001b[37m\u001b[0m \u001b[1m1s\u001b[0m 2ms/step - loss: 2.2139e-04 - mean_absolute_error: 0.0095 - val_loss: 2.2742e-04 - val_mean_absolute_error: 0.0090\n",
            "Epoch 95/100\n",
            "\u001b[1m541/541\u001b[0m \u001b[32m━━━━━━━━━━━━━━━━━━━━\u001b[0m\u001b[37m\u001b[0m \u001b[1m1s\u001b[0m 2ms/step - loss: 2.2502e-04 - mean_absolute_error: 0.0096 - val_loss: 2.2993e-04 - val_mean_absolute_error: 0.0090\n",
            "Epoch 96/100\n",
            "\u001b[1m541/541\u001b[0m \u001b[32m━━━━━━━━━━━━━━━━━━━━\u001b[0m\u001b[37m\u001b[0m \u001b[1m1s\u001b[0m 2ms/step - loss: 2.1677e-04 - mean_absolute_error: 0.0095 - val_loss: 2.5081e-04 - val_mean_absolute_error: 0.0093\n",
            "Epoch 97/100\n",
            "\u001b[1m541/541\u001b[0m \u001b[32m━━━━━━━━━━━━━━━━━━━━\u001b[0m\u001b[37m\u001b[0m \u001b[1m1s\u001b[0m 2ms/step - loss: 2.1700e-04 - mean_absolute_error: 0.0095 - val_loss: 2.4778e-04 - val_mean_absolute_error: 0.0092\n",
            "Epoch 98/100\n",
            "\u001b[1m541/541\u001b[0m \u001b[32m━━━━━━━━━━━━━━━━━━━━\u001b[0m\u001b[37m\u001b[0m \u001b[1m1s\u001b[0m 2ms/step - loss: 2.4969e-04 - mean_absolute_error: 0.0098 - val_loss: 2.2887e-04 - val_mean_absolute_error: 0.0094\n",
            "Epoch 99/100\n",
            "\u001b[1m541/541\u001b[0m \u001b[32m━━━━━━━━━━━━━━━━━━━━\u001b[0m\u001b[37m\u001b[0m \u001b[1m2s\u001b[0m 3ms/step - loss: 2.2618e-04 - mean_absolute_error: 0.0096 - val_loss: 2.4665e-04 - val_mean_absolute_error: 0.0100\n",
            "Epoch 100/100\n",
            "\u001b[1m541/541\u001b[0m \u001b[32m━━━━━━━━━━━━━━━━━━━━\u001b[0m\u001b[37m\u001b[0m \u001b[1m2s\u001b[0m 1ms/step - loss: 2.0802e-04 - mean_absolute_error: 0.0093 - val_loss: 2.4611e-04 - val_mean_absolute_error: 0.0094\n"
          ]
        },
        {
          "output_type": "execute_result",
          "data": {
            "text/plain": [
              "<keras.src.callbacks.history.History at 0x7f6847cff050>"
            ]
          },
          "metadata": {},
          "execution_count": 9
        }
      ]
    },
    {
      "cell_type": "code",
      "source": [
        "# Making predictions on the test set while reversing the scaling   #44\n",
        "y_test = yscaler.inverse_transform(y_test)   #45\n",
        "prediction = yscaler.inverse_transform(model.predict(X_test))   #46\n",
        "#47\n",
        "# Computing the error rate   #48\n",
        "error = abs(prediction - y_test)/y_test   #49\n",
        "print(np.mean(error))   #50"
      ],
      "metadata": {
        "colab": {
          "base_uri": "https://localhost:8080/"
        },
        "id": "uPtfSpS4B2ia",
        "outputId": "92909e2f-4520-48e6-a2ab-523652d98a6c"
      },
      "execution_count": 10,
      "outputs": [
        {
          "output_type": "stream",
          "name": "stdout",
          "text": [
            "\u001b[1m136/136\u001b[0m \u001b[32m━━━━━━━━━━━━━━━━━━━━\u001b[0m\u001b[37m\u001b[0m \u001b[1m0s\u001b[0m 1ms/step\n",
            "0.140512236905412\n"
          ]
        }
      ]
    }
  ],
  "metadata": {
    "colab": {
      "name": "Welcome To Colab",
      "provenance": []
    },
    "kernelspec": {
      "display_name": "Python 3",
      "name": "python3"
    }
  },
  "nbformat": 4,
  "nbformat_minor": 0
}